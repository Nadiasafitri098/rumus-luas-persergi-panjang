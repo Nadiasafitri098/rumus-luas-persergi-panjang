{
  "nbformat": 4,
  "nbformat_minor": 0,
  "metadata": {
    "colab": {
      "provenance": [],
      "authorship_tag": "ABX9TyMiuaSDgv8yNon61aFq2mLt",
      "include_colab_link": true
    },
    "kernelspec": {
      "name": "python3",
      "display_name": "Python 3"
    },
    "language_info": {
      "name": "python"
    }
  },
  "cells": [
    {
      "cell_type": "markdown",
      "metadata": {
        "id": "view-in-github",
        "colab_type": "text"
      },
      "source": [
        "<a href=\"https://colab.research.google.com/github/Nadiasafitri098/rumus-luas-persergi-panjang/blob/main/rumus_luas_persegi_panjang.ipynb\" target=\"_parent\"><img src=\"https://colab.research.google.com/assets/colab-badge.svg\" alt=\"Open In Colab\"/></a>"
      ]
    },
    {
      "cell_type": "markdown",
      "source": [
        "kelompok 3\n"
      ],
      "metadata": {
        "id": "SpPRplgIzql5"
      }
    },
    {
      "cell_type": "code",
      "source": [
        "panjang = 50\n",
        "lebar = 20\n",
        "luas = panjang * lebar\n",
        "print(\"luas persegi panjang adalah\",luas,\"cm\")"
      ],
      "metadata": {
        "colab": {
          "base_uri": "https://localhost:8080/"
        },
        "id": "WOzxzSD2z9Z9",
        "outputId": "e0a422bd-493b-49c1-c12d-117fe31a21a2"
      },
      "execution_count": 1,
      "outputs": [
        {
          "output_type": "stream",
          "name": "stdout",
          "text": [
            "luas persegi panjang adalah 1000 cm\n"
          ]
        }
      ]
    }
  ]
}